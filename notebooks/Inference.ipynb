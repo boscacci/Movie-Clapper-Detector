{
 "cells": [
  {
   "cell_type": "markdown",
   "metadata": {
    "id": "oH3fGSICD7Tx"
   },
   "source": [
    "# Inference"
   ]
  },
  {
   "cell_type": "code",
   "execution_count": null,
   "metadata": {
    "execution": {
     "iopub.execute_input": "2022-08-12T18:38:33.300465Z",
     "iopub.status.busy": "2022-08-12T18:38:33.300130Z",
     "iopub.status.idle": "2022-08-12T18:39:07.392992Z",
     "shell.execute_reply": "2022-08-12T18:39:07.392428Z",
     "shell.execute_reply.started": "2022-08-12T18:38:33.300375Z"
    },
    "jupyter": {
     "outputs_hidden": true
    }
   },
   "outputs": [],
   "source": [
    "# # Torch - Torchvision - IceVision - IceData - MMDetection - YOLOv5 - EfficientDet Installation\n",
    "# !wget https://raw.githubusercontent.com/airctic/icevision/master/icevision_install.sh\n",
    "\n",
    "# # Choose your installation target: cuda11 or cuda10 or cpu\n",
    "# !bash icevision_install.sh cuda11 master"
   ]
  },
  {
   "cell_type": "markdown",
   "metadata": {
    "id": "yt2hdPvWD7Ty",
    "pycharm": {
     "name": "#%% md\n"
    }
   },
   "source": [
    "## Imports\n",
    "All of the IceVision components can be easily imported with a single line.\n"
   ]
  },
  {
   "cell_type": "code",
   "execution_count": null,
   "metadata": {
    "colab": {
     "base_uri": "https://localhost:8080/",
     "height": 104,
     "referenced_widgets": [
      "146b57d4ea6c4eb4b69de3024689bf4f",
      "9dbbf7d46c3140fca1faf53e965e6266",
      "40b657ce02154df7b5e0f69458a2d54c",
      "a3934ebc0340440da55d6c5312f5fdd0",
      "6b6605ba06b644518e0907b4807a67be",
      "13d25a5df17b44ea9d3bc65f59204f40",
      "b747d25dc8fb459cbedff948baa44499",
      "5c1e34d11d744800b7895854b5010e84",
      "7b7ba01cc35b46599861584419c9f9bf",
      "6f6277715a5d4e0bb1783044937a6c36",
      "64c3ad8b2582444ebab2557b470a9a7b"
     ]
    },
    "execution": {
     "iopub.execute_input": "2022-08-12T18:40:11.645401Z",
     "iopub.status.busy": "2022-08-12T18:40:11.645105Z",
     "iopub.status.idle": "2022-08-12T18:40:38.206270Z",
     "shell.execute_reply": "2022-08-12T18:40:38.205730Z",
     "shell.execute_reply.started": "2022-08-12T18:40:11.645342Z"
    },
    "id": "GkWwmiqTD7T0",
    "jupyter": {
     "outputs_hidden": true
    },
    "outputId": "15599996-4eb9-47d4-d969-060ff06b53a0"
   },
   "outputs": [],
   "source": [
    "from icevision.all import *"
   ]
  },
  {
   "cell_type": "markdown",
   "metadata": {},
   "source": [
    "## List of images for inference\n",
    "\n",
    "Please store your images in a folder, and populate the `path_to_folder` variable with the corresponding folder name."
   ]
  },
  {
   "cell_type": "code",
   "execution_count": null,
   "metadata": {
    "colab": {
     "base_uri": "https://localhost:8080/"
    },
    "execution": {
     "iopub.execute_input": "2022-08-12T18:41:12.763139Z",
     "iopub.status.busy": "2022-08-12T18:41:12.762871Z",
     "iopub.status.idle": "2022-08-12T18:41:12.770253Z",
     "shell.execute_reply": "2022-08-12T18:41:12.769855Z",
     "shell.execute_reply.started": "2022-08-12T18:41:12.763118Z"
    },
    "id": "4dRqeNQYfQ29",
    "outputId": "66778d22-cd43-4eb6-8a8d-fe67397894aa"
   },
   "outputs": [],
   "source": [
    "# Pick your images folder\n",
    "path_to_image_folder = \"../data/images\"\n",
    "img_files = get_image_files(path_to_image_folder)[52:]\n",
    "# img_files"
   ]
  },
  {
   "cell_type": "code",
   "execution_count": null,
   "metadata": {
    "colab": {
     "base_uri": "https://localhost:8080/",
     "height": 683
    },
    "execution": {
     "iopub.execute_input": "2022-08-12T18:41:13.687791Z",
     "iopub.status.busy": "2022-08-12T18:41:13.687526Z",
     "iopub.status.idle": "2022-08-12T18:41:14.012303Z",
     "shell.execute_reply": "2022-08-12T18:41:14.009678Z",
     "shell.execute_reply.started": "2022-08-12T18:41:13.687770Z"
    },
    "id": "AeXf8q0Tkm1W",
    "outputId": "f84cf79d-efb8-4804-c334-768ed90391fd"
   },
   "outputs": [],
   "source": [
    "img = PIL.Image.open(img_files[0])\n",
    "img"
   ]
  },
  {
   "cell_type": "markdown",
   "metadata": {},
   "source": [
    "## Loading a checkpoint and creating the corresponding model\n",
    "\n",
    "The checkpoint file can be either a local file or an URL"
   ]
  },
  {
   "cell_type": "code",
   "execution_count": null,
   "metadata": {
    "execution": {
     "iopub.execute_input": "2022-08-12T19:06:37.311144Z",
     "iopub.status.busy": "2022-08-12T19:06:37.310871Z",
     "iopub.status.idle": "2022-08-12T19:06:37.313931Z",
     "shell.execute_reply": "2022-08-12T19:06:37.313285Z",
     "shell.execute_reply.started": "2022-08-12T19:06:37.311124Z"
    }
   },
   "outputs": [],
   "source": [
    "checkpoint_path = '../models/2022-07-27_resnet_slates_50.pth'"
   ]
  },
  {
   "cell_type": "code",
   "execution_count": null,
   "metadata": {
    "execution": {
     "iopub.execute_input": "2022-08-12T19:06:37.665541Z",
     "iopub.status.busy": "2022-08-12T19:06:37.665275Z",
     "iopub.status.idle": "2022-08-12T19:06:38.410648Z",
     "shell.execute_reply": "2022-08-12T19:06:38.409947Z",
     "shell.execute_reply.started": "2022-08-12T19:06:37.665521Z"
    },
    "jupyter": {
     "outputs_hidden": true
    }
   },
   "outputs": [],
   "source": [
    "from icevision.models import *\n",
    "\n",
    "checkpoint_and_model = model_from_checkpoint(checkpoint_path, map_location='cuda')"
   ]
  },
  {
   "cell_type": "code",
   "execution_count": null,
   "metadata": {
    "execution": {
     "iopub.execute_input": "2022-08-12T19:06:46.443013Z",
     "iopub.status.busy": "2022-08-12T19:06:46.442742Z",
     "iopub.status.idle": "2022-08-12T19:06:46.445914Z",
     "shell.execute_reply": "2022-08-12T19:06:46.445407Z",
     "shell.execute_reply.started": "2022-08-12T19:06:46.442991Z"
    }
   },
   "outputs": [],
   "source": [
    "# Just logging the info\n",
    "model_type = checkpoint_and_model[\"model_type\"]\n",
    "backbone = checkpoint_and_model[\"backbone\"]\n",
    "class_map = checkpoint_and_model[\"class_map\"]\n",
    "img_size = checkpoint_and_model[\"img_size\"]"
   ]
  },
  {
   "cell_type": "code",
   "execution_count": null,
   "metadata": {
    "execution": {
     "iopub.execute_input": "2022-08-12T19:06:46.787513Z",
     "iopub.status.busy": "2022-08-12T19:06:46.787246Z",
     "iopub.status.idle": "2022-08-12T19:06:46.791477Z",
     "shell.execute_reply": "2022-08-12T19:06:46.790686Z",
     "shell.execute_reply.started": "2022-08-12T19:06:46.787493Z"
    }
   },
   "outputs": [],
   "source": [
    "model_type"
   ]
  },
  {
   "cell_type": "code",
   "execution_count": null,
   "metadata": {
    "execution": {
     "iopub.execute_input": "2022-08-12T19:06:47.758465Z",
     "iopub.status.busy": "2022-08-12T19:06:47.758199Z",
     "iopub.status.idle": "2022-08-12T19:06:47.762205Z",
     "shell.execute_reply": "2022-08-12T19:06:47.761610Z",
     "shell.execute_reply.started": "2022-08-12T19:06:47.758445Z"
    }
   },
   "outputs": [],
   "source": [
    "backbone"
   ]
  },
  {
   "cell_type": "code",
   "execution_count": null,
   "metadata": {
    "execution": {
     "iopub.execute_input": "2022-08-12T19:06:48.412600Z",
     "iopub.status.busy": "2022-08-12T19:06:48.412338Z",
     "iopub.status.idle": "2022-08-12T19:06:48.416283Z",
     "shell.execute_reply": "2022-08-12T19:06:48.415733Z",
     "shell.execute_reply.started": "2022-08-12T19:06:48.412579Z"
    }
   },
   "outputs": [],
   "source": [
    "class_map"
   ]
  },
  {
   "cell_type": "code",
   "execution_count": null,
   "metadata": {
    "execution": {
     "iopub.execute_input": "2022-08-12T19:06:52.155902Z",
     "iopub.status.busy": "2022-08-12T19:06:52.155627Z",
     "iopub.status.idle": "2022-08-12T19:06:52.159577Z",
     "shell.execute_reply": "2022-08-12T19:06:52.159029Z",
     "shell.execute_reply.started": "2022-08-12T19:06:52.155881Z"
    }
   },
   "outputs": [],
   "source": [
    "img_size"
   ]
  },
  {
   "cell_type": "markdown",
   "metadata": {},
   "source": [
    "## Get Model Object\n",
    "\n",
    "`model_from_checkpoint(checkpoint_path)` returns a dictionary: `checkpoint_and_model`. The model object is stored in `checkpoint_and_model[\"model\"]`. "
   ]
  },
  {
   "cell_type": "code",
   "execution_count": null,
   "metadata": {
    "colab": {
     "base_uri": "https://localhost:8080/"
    },
    "execution": {
     "iopub.execute_input": "2022-08-12T18:42:57.800722Z",
     "iopub.status.busy": "2022-08-12T18:42:57.800213Z",
     "iopub.status.idle": "2022-08-12T18:42:57.806951Z",
     "shell.execute_reply": "2022-08-12T18:42:57.806591Z",
     "shell.execute_reply.started": "2022-08-12T18:42:57.800658Z"
    },
    "id": "KBq55aTtStn5",
    "outputId": "81c5bcb5-10f9-49a5-b62d-6f93341a52cd"
   },
   "outputs": [],
   "source": [
    "# Get model object\n",
    "# The model is automatically set in the evaluation mode\n",
    "model = checkpoint_and_model[\"model\"]\n",
    "\n",
    "# Check device\n",
    "device=next(model.parameters()).device\n",
    "device"
   ]
  },
  {
   "cell_type": "code",
   "execution_count": null,
   "metadata": {
    "scrolled": true
   },
   "outputs": [],
   "source": [
    "model.to('cuda')\n",
    "\n",
    "device=next(model.parameters()).device\n",
    "device"
   ]
  },
  {
   "cell_type": "code",
   "execution_count": null,
   "metadata": {
    "execution": {
     "iopub.execute_input": "2022-08-12T18:42:58.498723Z",
     "iopub.status.busy": "2022-08-12T18:42:58.498226Z",
     "iopub.status.idle": "2022-08-12T18:42:58.501273Z",
     "shell.execute_reply": "2022-08-12T18:42:58.500911Z",
     "shell.execute_reply.started": "2022-08-12T18:42:58.498666Z"
    }
   },
   "outputs": [],
   "source": [
    "# Transforms\n",
    "img_size = checkpoint_and_model[\"img_size\"]\n",
    "valid_tfms = tfms.A.Adapter([*tfms.A.resize_and_pad(img_size), tfms.A.Normalize()])"
   ]
  },
  {
   "cell_type": "markdown",
   "metadata": {},
   "source": [
    "## Single Image Inference\n",
    "\n",
    "The `end2end_detect()` not only compute predictions for a single image but also automatically adjust predicted boxes to the original image size"
   ]
  },
  {
   "cell_type": "code",
   "execution_count": null,
   "metadata": {
    "execution": {
     "iopub.execute_input": "2022-08-12T18:43:10.701649Z",
     "iopub.status.busy": "2022-08-12T18:43:10.701383Z",
     "iopub.status.idle": "2022-08-12T18:43:11.621339Z",
     "shell.execute_reply": "2022-08-12T18:43:11.620895Z",
     "shell.execute_reply.started": "2022-08-12T18:43:10.701629Z"
    }
   },
   "outputs": [],
   "source": [
    "img = PIL.Image.open(img_files)\n",
    "pred_dict  = model_type.end2end_detect(img, valid_tfms, model, class_map=class_map, detection_threshold=0.7)\n",
    "\n",
    "pred_dict['img']"
   ]
  },
  {
   "cell_type": "markdown",
   "metadata": {},
   "source": [
    "## Batch Inference\n",
    "\n",
    "The following option shows to do generate inference for a set of images. The latter is processed in batches."
   ]
  },
  {
   "cell_type": "code",
   "execution_count": null,
   "metadata": {
    "execution": {
     "iopub.execute_input": "2022-08-12T18:43:37.587259Z",
     "iopub.status.busy": "2022-08-12T18:43:37.586987Z",
     "iopub.status.idle": "2022-08-12T18:43:40.507635Z",
     "shell.execute_reply": "2022-08-12T18:43:40.507238Z",
     "shell.execute_reply.started": "2022-08-12T18:43:37.587238Z"
    }
   },
   "outputs": [],
   "source": [
    "# Create a dataset\n",
    "imgs_array = [PIL.Image.open(Path(fname)) for fname in img_files]\n",
    "infer_ds = Dataset.from_images(imgs_array, valid_tfms, class_map=class_map)\n",
    "\n",
    "# Batch Inference\n",
    "infer_dl = model_type.infer_dl(infer_ds, batch_size=4, shuffle=False)\n",
    "preds = model_type.predict_from_dl(model, infer_dl, keep_images=True, detection_threshold=0.50)"
   ]
  },
  {
   "cell_type": "code",
   "execution_count": null,
   "metadata": {
    "execution": {
     "iopub.execute_input": "2022-08-12T18:43:54.166756Z",
     "iopub.status.busy": "2022-08-12T18:43:54.166269Z",
     "iopub.status.idle": "2022-08-12T18:43:55.325322Z",
     "shell.execute_reply": "2022-08-12T18:43:55.324897Z",
     "shell.execute_reply.started": "2022-08-12T18:43:54.166729Z"
    },
    "scrolled": false
   },
   "outputs": [],
   "source": [
    "# You may need to un-comment this in certain environments to preview images:\n",
    "%matplotlib inline\n",
    "show_preds(preds=preds[0:5])"
   ]
  },
  {
   "cell_type": "markdown",
   "metadata": {},
   "source": [
    "## How to export inferences as COCO annotations\n",
    "\n",
    "These will match the dimensions of the original images. This could be useful if you'd like to create preliminary pseudo-annotations for unlabeled data:"
   ]
  },
  {
   "cell_type": "code",
   "execution_count": null,
   "metadata": {
    "execution": {
     "iopub.execute_input": "2022-08-12T18:44:34.972293Z",
     "iopub.status.busy": "2022-08-12T18:44:34.971856Z",
     "iopub.status.idle": "2022-08-12T18:44:34.974684Z",
     "shell.execute_reply": "2022-08-12T18:44:34.974298Z",
     "shell.execute_reply.started": "2022-08-12T18:44:34.972268Z"
    }
   },
   "outputs": [],
   "source": [
    "from icevision.data.convert_records_to_coco_style import export_batch_inferences_as_coco_annotations"
   ]
  },
  {
   "cell_type": "code",
   "execution_count": null,
   "metadata": {
    "execution": {
     "iopub.execute_input": "2022-08-12T18:44:35.628063Z",
     "iopub.status.busy": "2022-08-12T18:44:35.627605Z",
     "iopub.status.idle": "2022-08-12T18:44:35.630721Z",
     "shell.execute_reply": "2022-08-12T18:44:35.630277Z",
     "shell.execute_reply.started": "2022-08-12T18:44:35.628037Z"
    }
   },
   "outputs": [],
   "source": [
    "info = {\n",
    "    \"year\": \"2022\",\n",
    "    \"version\": \"1\",\n",
    "    \"description\": \"Exported from IceVision\",\n",
    "    \"contributor\": \"Awesome contributor\",\n",
    "    \"url\": \"https://lazyannotator.fun\",\n",
    "    \"date_created\": \"2022-08-05T20:13:09+00:00\"\n",
    "}"
   ]
  },
  {
   "cell_type": "code",
   "execution_count": null,
   "metadata": {
    "execution": {
     "iopub.execute_input": "2022-08-12T18:44:36.192624Z",
     "iopub.status.busy": "2022-08-12T18:44:36.192176Z",
     "iopub.status.idle": "2022-08-12T18:44:36.195033Z",
     "shell.execute_reply": "2022-08-12T18:44:36.194654Z",
     "shell.execute_reply.started": "2022-08-12T18:44:36.192599Z"
    }
   },
   "outputs": [],
   "source": [
    "licenses = [\n",
    "    {\n",
    "        \"name\": \"Creative Commons Attribution 4.0\",\n",
    "        \"id\": 0,\n",
    "        \"url\": \"https://creativecommons.org/licenses/by/4.0/legalcode\",\n",
    "    }\n",
    "]"
   ]
  },
  {
   "cell_type": "code",
   "execution_count": null,
   "metadata": {
    "execution": {
     "iopub.execute_input": "2022-08-12T18:44:37.353212Z",
     "iopub.status.busy": "2022-08-12T18:44:37.352777Z",
     "iopub.status.idle": "2022-08-12T18:44:37.937066Z",
     "shell.execute_reply": "2022-08-12T18:44:37.936606Z",
     "shell.execute_reply.started": "2022-08-12T18:44:37.353188Z"
    },
    "scrolled": false
   },
   "outputs": [],
   "source": [
    "export_batch_inferences_as_coco_annotations(\n",
    "    preds=preds,\n",
    "    img_files=img_files,\n",
    "    transforms=valid_tfms,\n",
    "    class_map=class_map,\n",
    "    output_filepath=\"../data/annotations/2022-09-27_preds_to_check_then_combine.json\",\n",
    "    info=info,\n",
    "    licenses=licenses,\n",
    ")"
   ]
  },
  {
   "cell_type": "markdown",
   "metadata": {},
   "source": [
    "### Preview predictions on original image:"
   ]
  },
  {
   "cell_type": "code",
   "execution_count": null,
   "metadata": {
    "execution": {
     "iopub.execute_input": "2022-08-12T18:44:56.860937Z",
     "iopub.status.busy": "2022-08-12T18:44:56.860502Z",
     "iopub.status.idle": "2022-08-12T18:44:57.593855Z",
     "shell.execute_reply": "2022-08-12T18:44:57.593071Z",
     "shell.execute_reply.started": "2022-08-12T18:44:56.860910Z"
    }
   },
   "outputs": [],
   "source": [
    "# Index of image you'd like to check\n",
    "i = 33\n",
    "\n",
    "this_pred = preds[i]\n",
    "record = this_pred.pred\n",
    "\n",
    "# Draw that image\n",
    "pred_img = draw_record(\n",
    "        record=this_pred,\n",
    "        class_map=class_map,\n",
    "        display_label=True,\n",
    "        display_score=True,\n",
    "        display_bbox=True,\n",
    "        font_path=get_default_font(),\n",
    "        font_size=12,\n",
    "        label_color=(\"#FF59D6\"),\n",
    "        return_as_pil_img=True,\n",
    "    )\n",
    "\n",
    "pred_img"
   ]
  },
  {
   "cell_type": "code",
   "execution_count": null,
   "metadata": {},
   "outputs": [],
   "source": []
  }
 ],
 "metadata": {
  "accelerator": "GPU",
  "colab": {
   "collapsed_sections": [],
   "name": " inference.ipynb",
   "provenance": []
  },
  "interpreter": {
   "hash": "255132067514b8971b1346d3b1d19a2dca8831435df2423030c6ab12019bfdcb"
  },
  "kernelspec": {
   "display_name": "icevision",
   "language": "python",
   "name": "icevision"
  },
  "language_info": {
   "codemirror_mode": {
    "name": "ipython",
    "version": 3
   },
   "file_extension": ".py",
   "mimetype": "text/x-python",
   "name": "python",
   "nbconvert_exporter": "python",
   "pygments_lexer": "ipython3",
   "version": "3.9.13"
  },
  "metadata": {
   "interpreter": {
    "hash": "7ce67d5d6720b587639daecff2fd8ea5482dfc1f4d2c40a21ebaeb984105fce4"
   }
  },
  "toc": {
   "base_numbering": 1,
   "nav_menu": {},
   "number_sections": true,
   "sideBar": false,
   "skip_h1_title": false,
   "title_cell": "Table of Contents",
   "title_sidebar": "Contents",
   "toc_cell": true,
   "toc_position": {
    "height": "608px",
    "left": "1489px",
    "top": "90px",
    "width": "398.875px"
   },
   "toc_section_display": false,
   "toc_window_display": true
  },
  "widgets": {
   "application/vnd.jupyter.widget-state+json": {
    "0662e6cc8590406fb3fc64a31bf16ba9": {
     "model_module": "@jupyter-widgets/base",
     "model_module_version": "1.2.0",
     "model_name": "LayoutModel",
     "state": {
      "_model_module": "@jupyter-widgets/base",
      "_model_module_version": "1.2.0",
      "_model_name": "LayoutModel",
      "_view_count": null,
      "_view_module": "@jupyter-widgets/base",
      "_view_module_version": "1.2.0",
      "_view_name": "LayoutView",
      "align_content": null,
      "align_items": null,
      "align_self": null,
      "border": null,
      "bottom": null,
      "display": null,
      "flex": null,
      "flex_flow": null,
      "grid_area": null,
      "grid_auto_columns": null,
      "grid_auto_flow": null,
      "grid_auto_rows": null,
      "grid_column": null,
      "grid_gap": null,
      "grid_row": null,
      "grid_template_areas": null,
      "grid_template_columns": null,
      "grid_template_rows": null,
      "height": null,
      "justify_content": null,
      "justify_items": null,
      "left": null,
      "margin": null,
      "max_height": null,
      "max_width": null,
      "min_height": null,
      "min_width": null,
      "object_fit": null,
      "object_position": null,
      "order": null,
      "overflow": null,
      "overflow_x": null,
      "overflow_y": null,
      "padding": null,
      "right": null,
      "top": null,
      "visibility": null,
      "width": null
     }
    },
    "13d25a5df17b44ea9d3bc65f59204f40": {
     "model_module": "@jupyter-widgets/controls",
     "model_module_version": "1.5.0",
     "model_name": "DescriptionStyleModel",
     "state": {
      "_model_module": "@jupyter-widgets/controls",
      "_model_module_version": "1.5.0",
      "_model_name": "DescriptionStyleModel",
      "_view_count": null,
      "_view_module": "@jupyter-widgets/base",
      "_view_module_version": "1.2.0",
      "_view_name": "StyleView",
      "description_width": ""
     }
    },
    "146b57d4ea6c4eb4b69de3024689bf4f": {
     "model_module": "@jupyter-widgets/controls",
     "model_module_version": "1.5.0",
     "model_name": "HBoxModel",
     "state": {
      "_dom_classes": [],
      "_model_module": "@jupyter-widgets/controls",
      "_model_module_version": "1.5.0",
      "_model_name": "HBoxModel",
      "_view_count": null,
      "_view_module": "@jupyter-widgets/controls",
      "_view_module_version": "1.5.0",
      "_view_name": "HBoxView",
      "box_style": "",
      "children": [
       "IPY_MODEL_40b657ce02154df7b5e0f69458a2d54c",
       "IPY_MODEL_a3934ebc0340440da55d6c5312f5fdd0",
       "IPY_MODEL_6b6605ba06b644518e0907b4807a67be"
      ],
      "layout": "IPY_MODEL_9dbbf7d46c3140fca1faf53e965e6266"
     }
    },
    "18ae265e5ca640199b604d150facbad7": {
     "model_module": "@jupyter-widgets/base",
     "model_module_version": "1.2.0",
     "model_name": "LayoutModel",
     "state": {
      "_model_module": "@jupyter-widgets/base",
      "_model_module_version": "1.2.0",
      "_model_name": "LayoutModel",
      "_view_count": null,
      "_view_module": "@jupyter-widgets/base",
      "_view_module_version": "1.2.0",
      "_view_name": "LayoutView",
      "align_content": null,
      "align_items": null,
      "align_self": null,
      "border": null,
      "bottom": null,
      "display": null,
      "flex": null,
      "flex_flow": null,
      "grid_area": null,
      "grid_auto_columns": null,
      "grid_auto_flow": null,
      "grid_auto_rows": null,
      "grid_column": null,
      "grid_gap": null,
      "grid_row": null,
      "grid_template_areas": null,
      "grid_template_columns": null,
      "grid_template_rows": null,
      "height": null,
      "justify_content": null,
      "justify_items": null,
      "left": null,
      "margin": null,
      "max_height": null,
      "max_width": null,
      "min_height": null,
      "min_width": null,
      "object_fit": null,
      "object_position": null,
      "order": null,
      "overflow": null,
      "overflow_x": null,
      "overflow_y": null,
      "padding": null,
      "right": null,
      "top": null,
      "visibility": null,
      "width": null
     }
    },
    "2085cc10a78d4ec780c2a242a19df03c": {
     "model_module": "@jupyter-widgets/base",
     "model_module_version": "1.2.0",
     "model_name": "LayoutModel",
     "state": {
      "_model_module": "@jupyter-widgets/base",
      "_model_module_version": "1.2.0",
      "_model_name": "LayoutModel",
      "_view_count": null,
      "_view_module": "@jupyter-widgets/base",
      "_view_module_version": "1.2.0",
      "_view_name": "LayoutView",
      "align_content": null,
      "align_items": null,
      "align_self": null,
      "border": null,
      "bottom": null,
      "display": null,
      "flex": null,
      "flex_flow": null,
      "grid_area": null,
      "grid_auto_columns": null,
      "grid_auto_flow": null,
      "grid_auto_rows": null,
      "grid_column": null,
      "grid_gap": null,
      "grid_row": null,
      "grid_template_areas": null,
      "grid_template_columns": null,
      "grid_template_rows": null,
      "height": null,
      "justify_content": null,
      "justify_items": null,
      "left": null,
      "margin": null,
      "max_height": null,
      "max_width": null,
      "min_height": null,
      "min_width": null,
      "object_fit": null,
      "object_position": null,
      "order": null,
      "overflow": null,
      "overflow_x": null,
      "overflow_y": null,
      "padding": null,
      "right": null,
      "top": null,
      "visibility": null,
      "width": null
     }
    },
    "2885e06aa5bf494f9f61be14f8a3aa7c": {
     "model_module": "@jupyter-widgets/controls",
     "model_module_version": "1.5.0",
     "model_name": "DescriptionStyleModel",
     "state": {
      "_model_module": "@jupyter-widgets/controls",
      "_model_module_version": "1.5.0",
      "_model_name": "DescriptionStyleModel",
      "_view_count": null,
      "_view_module": "@jupyter-widgets/base",
      "_view_module_version": "1.2.0",
      "_view_name": "StyleView",
      "description_width": ""
     }
    },
    "31ec602440da44129ae364f1591065ec": {
     "model_module": "@jupyter-widgets/controls",
     "model_module_version": "1.5.0",
     "model_name": "ProgressStyleModel",
     "state": {
      "_model_module": "@jupyter-widgets/controls",
      "_model_module_version": "1.5.0",
      "_model_name": "ProgressStyleModel",
      "_view_count": null,
      "_view_module": "@jupyter-widgets/base",
      "_view_module_version": "1.2.0",
      "_view_name": "StyleView",
      "bar_color": null,
      "description_width": ""
     }
    },
    "40b657ce02154df7b5e0f69458a2d54c": {
     "model_module": "@jupyter-widgets/controls",
     "model_module_version": "1.5.0",
     "model_name": "HTMLModel",
     "state": {
      "_dom_classes": [],
      "_model_module": "@jupyter-widgets/controls",
      "_model_module_version": "1.5.0",
      "_model_name": "HTMLModel",
      "_view_count": null,
      "_view_module": "@jupyter-widgets/controls",
      "_view_module_version": "1.5.0",
      "_view_name": "HTMLView",
      "description": "",
      "description_tooltip": null,
      "layout": "IPY_MODEL_b747d25dc8fb459cbedff948baa44499",
      "placeholder": "​",
      "style": "IPY_MODEL_13d25a5df17b44ea9d3bc65f59204f40",
      "value": ""
     }
    },
    "5c1e34d11d744800b7895854b5010e84": {
     "model_module": "@jupyter-widgets/controls",
     "model_module_version": "1.5.0",
     "model_name": "ProgressStyleModel",
     "state": {
      "_model_module": "@jupyter-widgets/controls",
      "_model_module_version": "1.5.0",
      "_model_name": "ProgressStyleModel",
      "_view_count": null,
      "_view_module": "@jupyter-widgets/base",
      "_view_module_version": "1.2.0",
      "_view_name": "StyleView",
      "bar_color": null,
      "description_width": ""
     }
    },
    "64c3ad8b2582444ebab2557b470a9a7b": {
     "model_module": "@jupyter-widgets/base",
     "model_module_version": "1.2.0",
     "model_name": "LayoutModel",
     "state": {
      "_model_module": "@jupyter-widgets/base",
      "_model_module_version": "1.2.0",
      "_model_name": "LayoutModel",
      "_view_count": null,
      "_view_module": "@jupyter-widgets/base",
      "_view_module_version": "1.2.0",
      "_view_name": "LayoutView",
      "align_content": null,
      "align_items": null,
      "align_self": null,
      "border": null,
      "bottom": null,
      "display": null,
      "flex": null,
      "flex_flow": null,
      "grid_area": null,
      "grid_auto_columns": null,
      "grid_auto_flow": null,
      "grid_auto_rows": null,
      "grid_column": null,
      "grid_gap": null,
      "grid_row": null,
      "grid_template_areas": null,
      "grid_template_columns": null,
      "grid_template_rows": null,
      "height": null,
      "justify_content": null,
      "justify_items": null,
      "left": null,
      "margin": null,
      "max_height": null,
      "max_width": null,
      "min_height": null,
      "min_width": null,
      "object_fit": null,
      "object_position": null,
      "order": null,
      "overflow": null,
      "overflow_x": null,
      "overflow_y": null,
      "padding": null,
      "right": null,
      "top": null,
      "visibility": null,
      "width": null
     }
    },
    "6b6605ba06b644518e0907b4807a67be": {
     "model_module": "@jupyter-widgets/controls",
     "model_module_version": "1.5.0",
     "model_name": "HTMLModel",
     "state": {
      "_dom_classes": [],
      "_model_module": "@jupyter-widgets/controls",
      "_model_module_version": "1.5.0",
      "_model_name": "HTMLModel",
      "_view_count": null,
      "_view_module": "@jupyter-widgets/controls",
      "_view_module_version": "1.5.0",
      "_view_name": "HTMLView",
      "description": "",
      "description_tooltip": null,
      "layout": "IPY_MODEL_64c3ad8b2582444ebab2557b470a9a7b",
      "placeholder": "​",
      "style": "IPY_MODEL_6f6277715a5d4e0bb1783044937a6c36",
      "value": " 1712104/? [00:20&lt;00:00, 916925.62B/s]"
     }
    },
    "6f6277715a5d4e0bb1783044937a6c36": {
     "model_module": "@jupyter-widgets/controls",
     "model_module_version": "1.5.0",
     "model_name": "DescriptionStyleModel",
     "state": {
      "_model_module": "@jupyter-widgets/controls",
      "_model_module_version": "1.5.0",
      "_model_name": "DescriptionStyleModel",
      "_view_count": null,
      "_view_module": "@jupyter-widgets/base",
      "_view_module_version": "1.2.0",
      "_view_name": "StyleView",
      "description_width": ""
     }
    },
    "7b7ba01cc35b46599861584419c9f9bf": {
     "model_module": "@jupyter-widgets/base",
     "model_module_version": "1.2.0",
     "model_name": "LayoutModel",
     "state": {
      "_model_module": "@jupyter-widgets/base",
      "_model_module_version": "1.2.0",
      "_model_name": "LayoutModel",
      "_view_count": null,
      "_view_module": "@jupyter-widgets/base",
      "_view_module_version": "1.2.0",
      "_view_name": "LayoutView",
      "align_content": null,
      "align_items": null,
      "align_self": null,
      "border": null,
      "bottom": null,
      "display": null,
      "flex": null,
      "flex_flow": null,
      "grid_area": null,
      "grid_auto_columns": null,
      "grid_auto_flow": null,
      "grid_auto_rows": null,
      "grid_column": null,
      "grid_gap": null,
      "grid_row": null,
      "grid_template_areas": null,
      "grid_template_columns": null,
      "grid_template_rows": null,
      "height": null,
      "justify_content": null,
      "justify_items": null,
      "left": null,
      "margin": null,
      "max_height": null,
      "max_width": null,
      "min_height": null,
      "min_width": null,
      "object_fit": null,
      "object_position": null,
      "order": null,
      "overflow": null,
      "overflow_x": null,
      "overflow_y": null,
      "padding": null,
      "right": null,
      "top": null,
      "visibility": null,
      "width": "20px"
     }
    },
    "9d02cdbe3c0d44a4b619ccccff3b5bca": {
     "model_module": "@jupyter-widgets/base",
     "model_module_version": "1.2.0",
     "model_name": "LayoutModel",
     "state": {
      "_model_module": "@jupyter-widgets/base",
      "_model_module_version": "1.2.0",
      "_model_name": "LayoutModel",
      "_view_count": null,
      "_view_module": "@jupyter-widgets/base",
      "_view_module_version": "1.2.0",
      "_view_name": "LayoutView",
      "align_content": null,
      "align_items": null,
      "align_self": null,
      "border": null,
      "bottom": null,
      "display": null,
      "flex": null,
      "flex_flow": null,
      "grid_area": null,
      "grid_auto_columns": null,
      "grid_auto_flow": null,
      "grid_auto_rows": null,
      "grid_column": null,
      "grid_gap": null,
      "grid_row": null,
      "grid_template_areas": null,
      "grid_template_columns": null,
      "grid_template_rows": null,
      "height": null,
      "justify_content": null,
      "justify_items": null,
      "left": null,
      "margin": null,
      "max_height": null,
      "max_width": null,
      "min_height": null,
      "min_width": null,
      "object_fit": null,
      "object_position": null,
      "order": null,
      "overflow": null,
      "overflow_x": null,
      "overflow_y": null,
      "padding": null,
      "right": null,
      "top": null,
      "visibility": null,
      "width": null
     }
    },
    "9dbbf7d46c3140fca1faf53e965e6266": {
     "model_module": "@jupyter-widgets/base",
     "model_module_version": "1.2.0",
     "model_name": "LayoutModel",
     "state": {
      "_model_module": "@jupyter-widgets/base",
      "_model_module_version": "1.2.0",
      "_model_name": "LayoutModel",
      "_view_count": null,
      "_view_module": "@jupyter-widgets/base",
      "_view_module_version": "1.2.0",
      "_view_name": "LayoutView",
      "align_content": null,
      "align_items": null,
      "align_self": null,
      "border": null,
      "bottom": null,
      "display": null,
      "flex": null,
      "flex_flow": null,
      "grid_area": null,
      "grid_auto_columns": null,
      "grid_auto_flow": null,
      "grid_auto_rows": null,
      "grid_column": null,
      "grid_gap": null,
      "grid_row": null,
      "grid_template_areas": null,
      "grid_template_columns": null,
      "grid_template_rows": null,
      "height": null,
      "justify_content": null,
      "justify_items": null,
      "left": null,
      "margin": null,
      "max_height": null,
      "max_width": null,
      "min_height": null,
      "min_width": null,
      "object_fit": null,
      "object_position": null,
      "order": null,
      "overflow": null,
      "overflow_x": null,
      "overflow_y": null,
      "padding": null,
      "right": null,
      "top": null,
      "visibility": null,
      "width": null
     }
    },
    "9f3e60359cda43758b007e8b70b230fc": {
     "model_module": "@jupyter-widgets/controls",
     "model_module_version": "1.5.0",
     "model_name": "HBoxModel",
     "state": {
      "_dom_classes": [],
      "_model_module": "@jupyter-widgets/controls",
      "_model_module_version": "1.5.0",
      "_model_name": "HBoxModel",
      "_view_count": null,
      "_view_module": "@jupyter-widgets/controls",
      "_view_module_version": "1.5.0",
      "_view_name": "HBoxView",
      "box_style": "",
      "children": [
       "IPY_MODEL_cc1bd0c201d64259845565e477729589",
       "IPY_MODEL_cc073c0a7de54d58ae6469f5b2239ce2",
       "IPY_MODEL_d824c5bb744d4d5dbb48ae9fd241ce3c"
      ],
      "layout": "IPY_MODEL_18ae265e5ca640199b604d150facbad7"
     }
    },
    "a3934ebc0340440da55d6c5312f5fdd0": {
     "model_module": "@jupyter-widgets/controls",
     "model_module_version": "1.5.0",
     "model_name": "FloatProgressModel",
     "state": {
      "_dom_classes": [],
      "_model_module": "@jupyter-widgets/controls",
      "_model_module_version": "1.5.0",
      "_model_name": "FloatProgressModel",
      "_view_count": null,
      "_view_module": "@jupyter-widgets/controls",
      "_view_module_version": "1.5.0",
      "_view_name": "ProgressView",
      "bar_style": "info",
      "description": "",
      "description_tooltip": null,
      "layout": "IPY_MODEL_7b7ba01cc35b46599861584419c9f9bf",
      "max": 1,
      "min": 0,
      "orientation": "horizontal",
      "style": "IPY_MODEL_5c1e34d11d744800b7895854b5010e84",
      "value": 1
     }
    },
    "b4b24afda271413fa979b9faec573add": {
     "model_module": "@jupyter-widgets/controls",
     "model_module_version": "1.5.0",
     "model_name": "DescriptionStyleModel",
     "state": {
      "_model_module": "@jupyter-widgets/controls",
      "_model_module_version": "1.5.0",
      "_model_name": "DescriptionStyleModel",
      "_view_count": null,
      "_view_module": "@jupyter-widgets/base",
      "_view_module_version": "1.2.0",
      "_view_name": "StyleView",
      "description_width": ""
     }
    },
    "b747d25dc8fb459cbedff948baa44499": {
     "model_module": "@jupyter-widgets/base",
     "model_module_version": "1.2.0",
     "model_name": "LayoutModel",
     "state": {
      "_model_module": "@jupyter-widgets/base",
      "_model_module_version": "1.2.0",
      "_model_name": "LayoutModel",
      "_view_count": null,
      "_view_module": "@jupyter-widgets/base",
      "_view_module_version": "1.2.0",
      "_view_name": "LayoutView",
      "align_content": null,
      "align_items": null,
      "align_self": null,
      "border": null,
      "bottom": null,
      "display": null,
      "flex": null,
      "flex_flow": null,
      "grid_area": null,
      "grid_auto_columns": null,
      "grid_auto_flow": null,
      "grid_auto_rows": null,
      "grid_column": null,
      "grid_gap": null,
      "grid_row": null,
      "grid_template_areas": null,
      "grid_template_columns": null,
      "grid_template_rows": null,
      "height": null,
      "justify_content": null,
      "justify_items": null,
      "left": null,
      "margin": null,
      "max_height": null,
      "max_width": null,
      "min_height": null,
      "min_width": null,
      "object_fit": null,
      "object_position": null,
      "order": null,
      "overflow": null,
      "overflow_x": null,
      "overflow_y": null,
      "padding": null,
      "right": null,
      "top": null,
      "visibility": null,
      "width": null
     }
    },
    "cc073c0a7de54d58ae6469f5b2239ce2": {
     "model_module": "@jupyter-widgets/controls",
     "model_module_version": "1.5.0",
     "model_name": "FloatProgressModel",
     "state": {
      "_dom_classes": [],
      "_model_module": "@jupyter-widgets/controls",
      "_model_module_version": "1.5.0",
      "_model_name": "FloatProgressModel",
      "_view_count": null,
      "_view_module": "@jupyter-widgets/controls",
      "_view_module_version": "1.5.0",
      "_view_name": "ProgressView",
      "bar_style": "success",
      "description": "",
      "description_tooltip": null,
      "layout": "IPY_MODEL_0662e6cc8590406fb3fc64a31bf16ba9",
      "max": 2,
      "min": 0,
      "orientation": "horizontal",
      "style": "IPY_MODEL_31ec602440da44129ae364f1591065ec",
      "value": 2
     }
    },
    "cc1bd0c201d64259845565e477729589": {
     "model_module": "@jupyter-widgets/controls",
     "model_module_version": "1.5.0",
     "model_name": "HTMLModel",
     "state": {
      "_dom_classes": [],
      "_model_module": "@jupyter-widgets/controls",
      "_model_module_version": "1.5.0",
      "_model_name": "HTMLModel",
      "_view_count": null,
      "_view_module": "@jupyter-widgets/controls",
      "_view_module_version": "1.5.0",
      "_view_name": "HTMLView",
      "description": "",
      "description_tooltip": null,
      "layout": "IPY_MODEL_9d02cdbe3c0d44a4b619ccccff3b5bca",
      "placeholder": "​",
      "style": "IPY_MODEL_b4b24afda271413fa979b9faec573add",
      "value": "100%"
     }
    },
    "d824c5bb744d4d5dbb48ae9fd241ce3c": {
     "model_module": "@jupyter-widgets/controls",
     "model_module_version": "1.5.0",
     "model_name": "HTMLModel",
     "state": {
      "_dom_classes": [],
      "_model_module": "@jupyter-widgets/controls",
      "_model_module_version": "1.5.0",
      "_model_name": "HTMLModel",
      "_view_count": null,
      "_view_module": "@jupyter-widgets/controls",
      "_view_module_version": "1.5.0",
      "_view_name": "HTMLView",
      "description": "",
      "description_tooltip": null,
      "layout": "IPY_MODEL_2085cc10a78d4ec780c2a242a19df03c",
      "placeholder": "​",
      "style": "IPY_MODEL_2885e06aa5bf494f9f61be14f8a3aa7c",
      "value": " 2/2 [00:06&lt;00:00,  3.34s/it]"
     }
    }
   }
  }
 },
 "nbformat": 4,
 "nbformat_minor": 4
}
